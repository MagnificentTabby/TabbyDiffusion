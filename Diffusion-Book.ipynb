{
  "cells": [
    {
      "cell_type": "markdown",
      "metadata": {
        "id": "view-in-github",
        "colab_type": "text"
      },
      "source": [
        "<a href=\"https://colab.research.google.com/github/MagnificentTabby/TabbyDiffusion/blob/model_dict/Diffusion-Book.ipynb\" target=\"_parent\"><img src=\"https://colab.research.google.com/assets/colab-badge.svg\" alt=\"Open In Colab\"/></a>"
      ]
    },
    {
      "cell_type": "code",
      "execution_count": 2,
      "metadata": {
        "colab": {
          "base_uri": "https://localhost:8080/"
        },
        "id": "Y9EBc437WDOs",
        "outputId": "44e48c76-4991-498d-c5b9-b6ce9620abb4"
      },
      "outputs": [
        {
          "output_type": "stream",
          "name": "stdout",
          "text": [
            "Mounted at /content/gdrive\n"
          ]
        }
      ],
      "source": [
        "from google.colab import drive\n",
        "drive.mount('/content/gdrive')"
      ]
    },
    {
      "cell_type": "code",
      "source": [
        "# Download Huggingface models list if needed\n",
        "!wget -o -P /content/gdrive/MyDrive/SD_test https://github.com/MagnificentTabby/TabbyDiffusion/raw/main/Models.csv"
      ],
      "metadata": {
        "id": "L-RRm-ouQqed",
        "outputId": "ca40575a-0cad-4910-a1ca-b183122b9865",
        "colab": {
          "base_uri": "https://localhost:8080/"
        }
      },
      "execution_count": 26,
      "outputs": [
        {
          "output_type": "stream",
          "name": "stdout",
          "text": [
            "--2023-12-05 15:25:08--  https://github.com/MagnificentTabby/TabbyDiffusion/raw/main/Models.csv\n",
            "Resolving github.com (github.com)... 140.82.112.4\n",
            "Connecting to github.com (github.com)|140.82.112.4|:443... connected.\n",
            "HTTP request sent, awaiting response... 302 Found\n",
            "Location: https://raw.githubusercontent.com/MagnificentTabby/TabbyDiffusion/main/Models.csv [following]\n",
            "--2023-12-05 15:25:08--  https://raw.githubusercontent.com/MagnificentTabby/TabbyDiffusion/main/Models.csv\n",
            "Resolving raw.githubusercontent.com (raw.githubusercontent.com)... 185.199.110.133, 185.199.108.133, 185.199.109.133, ...\n",
            "Connecting to raw.githubusercontent.com (raw.githubusercontent.com)|185.199.110.133|:443... connected.\n",
            "HTTP request sent, awaiting response... 200 OK\n",
            "Length: 88 [text/plain]\n",
            "Saving to: ‘/content/gdrive/MyDrive/SD_test/Models.csv’\n",
            "\n",
            "\rModels.csv            0%[                    ]       0  --.-KB/s               \rModels.csv          100%[===================>]      88  --.-KB/s    in 0s      \n",
            "\n",
            "2023-12-05 15:25:08 (4.98 MB/s) - ‘/content/gdrive/MyDrive/SD_test/Models.csv’ saved [88/88]\n",
            "\n"
          ]
        }
      ]
    },
    {
      "cell_type": "code",
      "source": [
        "import csv\n",
        "dictModels = {}\n",
        "with open('/content/gdrive/MyDrive/SD_test/Models.csv','r') as f:\n",
        "  for line in csv.reader(f):\n",
        "      dictModels[line[0]] = line[1]\n",
        "\n",
        "print(dictModels)"
      ],
      "metadata": {
        "id": "JnXF5nXvRaUV",
        "outputId": "635fd19b-d348-452c-f970-9f8593d2e5a9",
        "colab": {
          "base_uri": "https://localhost:8080/"
        }
      },
      "execution_count": 27,
      "outputs": [
        {
          "output_type": "stream",
          "name": "stdout",
          "text": [
            "{'Deliberate-v3': 'stablediffusionapi/deliberate-v3', 'Reliberate': 'stablediffusionapi/Reliberate'}\n"
          ]
        }
      ]
    },
    {
      "cell_type": "code",
      "execution_count": 20,
      "metadata": {
        "id": "M7k9TlOkHPqO"
      },
      "outputs": [],
      "source": [
        "%%capture\n",
        "!pip install diffusers\n",
        "!pip install torch\n",
        "!pip install accelerate\n",
        "!pip install transformers\n",
        "!pip install PIL\n",
        "!pip install ipywidgets\n",
        "import os\n",
        "import csv\n",
        "import datetime\n",
        "import accelerate\n",
        "from PIL import Image\n",
        "import torch\n",
        "from transformers import CLIPTextModel, CLIPTokenizer\n",
        "from diffusers import AutoencoderKL, UNet2DConditionModel, PNDMScheduler\n",
        "from diffusers import UniPCMultistepScheduler #use different scheduler\n",
        "from ipywidgets import widgets\n",
        "from ipywidgets import Layout\n",
        "\n",
        "# For GFPGAN\n",
        "!pip install basicsr\n",
        "!pip install facexlib\n",
        "!pip install -r requirements.txt\n",
        "!python setup.py develop\n",
        "!pip install realesrgan #only need this if we want to enhance the background as well\n",
        "\n",
        "# Initialise some stuff\n",
        "#dictModels = {\"Deliberate\": \"stablediffusionapi/Deliberate\",\n",
        "#              \"Reliberate\": \"stablediffusionapi/Reliberate\"}\n",
        "widModel = widgets.Dropdown(options=dictModels.keys(), description=\"Model\", disabled=False)\n",
        "widPrompt = widgets.Text(description=\"Prompt\", disabled=False,layout=Layout(width='90%'))\n",
        "widNegPrompt = widgets.Text(description=\"Negative Prompt\", disabled=False,layout=Layout(width='90%', description_width='100px'))\n",
        "widCFG = widgets.BoundedIntText(description=\"CFG\", disabled=False, value=7.5, min=0, max=100, step=0.01)\n",
        "widSteps = widgets.BoundedIntText(description=\"Steps\", disabled=False, value=30, min=1, max=200, step=1)\n",
        "widWidth = widgets.BoundedIntText(description=\"Width\", disabled=False, value=512, min=1, step=1, max=2000)\n",
        "widHeight = widgets.BoundedIntText(description=\"Height\", disabled=False, value=512, min=1, step=1, max=2000)\n",
        "widSeed = widgets.BoundedIntText(description=\"Seed\", disabled=False, value=0, step=1) #need to set a max value here\n",
        "widNoImages = widgets.BoundedIntText(description=\"Batch Size\", disabled=False, value=1, step=1) #need to set a max value here\n",
        "widGFP = widgets.ToggleButton(description=\"GFPGAN Upscale\", value=True, icon='check')\n",
        "try:\n",
        "  os.mkdir(\"/content/gdrive/MyDrive/SD_test/outputs\")\n",
        "except:\n",
        "  pass\n",
        "\n",
        "try:\n",
        "  os.mkdir(\"/content/gdrive/MyDrive/SD_test/gfpgan\")\n",
        "  !git clone https://github.com/TencentARC/GFPGAN.git /content/gdrive/MyDrive/SD_test/gfpgan\n",
        "except:\n",
        "  pass\n",
        "gfPath = \"/content/gdrive/MyDrive/SD_test/gfpgan/inference_gfpgan.py\""
      ]
    },
    {
      "cell_type": "code",
      "execution_count": 21,
      "metadata": {
        "colab": {
          "base_uri": "https://localhost:8080/",
          "height": 49,
          "referenced_widgets": [
            "dd3606b3a2b144059cc93002f44c26f3",
            "496d7d71a20443af9e757edc2531f0b5",
            "97cf5225bbe24f0f82453e1f97b32a8f"
          ]
        },
        "id": "7uXNdpoA_eVc",
        "outputId": "1efbd18b-efa8-485d-ca5e-ed38d7bcfae9"
      },
      "outputs": [
        {
          "output_type": "display_data",
          "data": {
            "text/plain": [
              "Dropdown(description='Model', options=('Deliberate-v3', 'Reliberate'), value='Deliberate-v3')"
            ],
            "application/vnd.jupyter.widget-view+json": {
              "version_major": 2,
              "version_minor": 0,
              "model_id": "dd3606b3a2b144059cc93002f44c26f3"
            }
          },
          "metadata": {}
        }
      ],
      "source": [
        "display (widModel)"
      ]
    },
    {
      "cell_type": "code",
      "execution_count": 28,
      "metadata": {
        "id": "sQxoRn-rBBrb"
      },
      "outputs": [],
      "source": [
        "# Set model\n",
        "%%capture\n",
        "modPath = dictModels[widModel.value]\n",
        "vae = AutoencoderKL.from_pretrained(modPath, subfolder=\"vae\") #to transform latent back into image\n",
        "tokenizer = CLIPTokenizer.from_pretrained(modPath, subfolder=\"tokenizer\") #Tokenizer and encoder to create embeddings\n",
        "text_encoder = CLIPTextModel.from_pretrained(modPath, subfolder=\"text_encoder\")\n",
        "unet = UNet2DConditionModel.from_pretrained(modPath,subfolder=\"unet\") # Main unet model\n",
        "torch_device = \"cuda\" #Move to GPU to increase speed\n",
        "vae.to(torch_device)\n",
        "text_encoder.to(torch_device)\n",
        "unet.to(torch_device)\n",
        "# Set scheduler\n",
        "scheduler = UniPCMultistepScheduler.from_pretrained(\"CompVis/stable-diffusion-v1-4\", subfolder=\"scheduler\")\n",
        "\n",
        "# Define function to gnerate images\n",
        "def txt2img(prompt, negPrompt, imgWidth, imgHeight, guidance_scale, num_inference_steps, seed):\n",
        "  # Tokenize the text - tokenizer defined above\n",
        "  text_input = tokenizer(prompt, padding=\"max_length\", max_length=tokenizer.model_max_length, truncation=True, return_tensors=\"pt\")\n",
        "  neg_text_input = tokenizer(negPrompt, padding=\"max_length\", max_length=tokenizer.model_max_length, truncation=True, return_tensors=\"pt\")\n",
        "  batch_size = len(prompt)\n",
        "  generator = torch.manual_seed(seed)  # Seed generator to create the inital latent noise\n",
        "  # Create embeddings from the prompt\n",
        "  with torch.no_grad():\n",
        "    text_embeddings = text_encoder(text_input.input_ids.to(torch_device))[0]\n",
        "    uncond_embeddings = text_encoder(neg_text_input.input_ids.to(torch_device))[0]\n",
        "\n",
        "  #concatenate the conditional and unconditional embeddings into a batch to avoid doing two forward passes:\n",
        "  text_embeddings = torch.cat([uncond_embeddings, text_embeddings])\n",
        "\n",
        "  # Create random noise\n",
        "  # Latent image (size is smaller than the final image but will be transformed back later)\n",
        "  latents = torch.randn((batch_size,unet.in_channels, imgHeight //8, imgWidth // 8),generator=generator,)\n",
        "  latents = latents.to(torch_device)\n",
        "  # Denoise the image\n",
        "  #Start by scaling the noise by noise scale value, sigma (require for some improved schedulers)\n",
        "  latents = latents * scheduler.init_noise_sigma\n",
        "  from tqdm.auto import tqdm\n",
        "  scheduler.set_timesteps(num_inference_steps) #set scheduler's timestep\n",
        "  for t in tqdm(scheduler.timesteps):\n",
        "    # expand the latents if we are doing classifier-free guidance to avoid doing two forward passes\n",
        "    latent_model_input = torch.cat([latents]*2)\n",
        "    latent_model_input = scheduler.scale_model_input(latent_model_input,timestep=t)\n",
        "    #predict the noise residual\n",
        "    with torch.no_grad():\n",
        "      noise_pred = unet(latent_model_input,t,encoder_hidden_states=text_embeddings).sample\n",
        "    #perform gudance\n",
        "    noise_pred_uncond, noise_pred_text = noise_pred.chunk(2)\n",
        "    noise_pred = noise_pred_uncond + guidance_scale * (noise_pred_text - noise_pred_uncond)\n",
        "    #compute the previous noist sample x_t -> x_t - 1\n",
        "    latents = scheduler.step(noise_pred,t,latents).prev_sample\n",
        "\n",
        "  #Decode the image - use the vae to decode the latent representation into an image and get the decoded output with sample\n",
        "  # scale and decode the image latents with vae\n",
        "  latents = 1 / 0.18215 * latents\n",
        "  with torch.no_grad():\n",
        "    image = vae.decode(latents).sample\n",
        "\n",
        "  # convert to PIL.image\n",
        "  image = (image / 2 + 0.5).clamp(0, 1)\n",
        "  image = image.detach().cpu().permute(0, 2, 3, 1).numpy()\n",
        "  images = (image * 255).round().astype(\"uint8\")\n",
        "  pil_images = [Image.fromarray(image) for image in images]\n",
        "  return pil_images"
      ]
    },
    {
      "cell_type": "code",
      "execution_count": 29,
      "metadata": {
        "colab": {
          "base_uri": "https://localhost:8080/",
          "height": 261,
          "referenced_widgets": [
            "d06f77cda6f94dbe950b3bdd7c23f815",
            "32499ddaae9a497a82ea9c8ee70bcef5",
            "510d58f04ddc47afbeea3f2a82cf67b8",
            "78c25b01b4cb434a9ba7926ebbdf7eb1",
            "bdf650db23fb47eab399c584c51cc175",
            "06dd81b677e849c0bd3ef31f9fbe19ef",
            "bc9082c811ee474e86b44580ff3f40b6",
            "d3946190e1474134a00299a5e70d8c90",
            "6a00b286d5a24ed8b9b01be3b146657c",
            "5302d42b62134b17a5745d9b288dcb0f",
            "128e25011b8a44c7a57fa755ffb4bdef",
            "05cce44782c843729286cee9960b5083",
            "0594f80048fe430991a15df8e71d82d0",
            "947f353cb4fc41e7a52bb43566d2b59e",
            "b47cead5b6eb49f5a36422dc9369eeb2",
            "e189c065a0874c5fb03b3b5f54539a76",
            "838beed9328b44ff8526cdc99ed4ed8e",
            "b68ed73c16b247f0b0153cf7a6a7991d",
            "33d68098d0f74fd2bb84e62a0ae0b302",
            "043ef8ac6cd44547931d6b5ba9b4dc32",
            "e2a0751d94d24431a31b0fab047c0661",
            "5f27eefbe6744a0d804dd1a790ee940a",
            "6c51e491d3104876a124b42977c1d407",
            "76b2c519892c4009a62db9be646bd298"
          ]
        },
        "id": "_GwZXEhBq1bR",
        "outputId": "75fc6da2-c627-4f49-f4de-8f076ad4f1ab"
      },
      "outputs": [
        {
          "output_type": "display_data",
          "data": {
            "text/plain": [
              "Text(value='', description='Prompt', layout=Layout(width='90%'))"
            ],
            "application/vnd.jupyter.widget-view+json": {
              "version_major": 2,
              "version_minor": 0,
              "model_id": "d06f77cda6f94dbe950b3bdd7c23f815"
            }
          },
          "metadata": {}
        },
        {
          "output_type": "display_data",
          "data": {
            "text/plain": [
              "Text(value='', description='Negative Prompt', layout=Layout(width='90%'))"
            ],
            "application/vnd.jupyter.widget-view+json": {
              "version_major": 2,
              "version_minor": 0,
              "model_id": "78c25b01b4cb434a9ba7926ebbdf7eb1"
            }
          },
          "metadata": {}
        },
        {
          "output_type": "display_data",
          "data": {
            "text/plain": [
              "BoundedIntText(value=7, description='CFG', step=0)"
            ],
            "application/vnd.jupyter.widget-view+json": {
              "version_major": 2,
              "version_minor": 0,
              "model_id": "bc9082c811ee474e86b44580ff3f40b6"
            }
          },
          "metadata": {}
        },
        {
          "output_type": "display_data",
          "data": {
            "text/plain": [
              "BoundedIntText(value=30, description='Steps', max=200, min=1)"
            ],
            "application/vnd.jupyter.widget-view+json": {
              "version_major": 2,
              "version_minor": 0,
              "model_id": "5302d42b62134b17a5745d9b288dcb0f"
            }
          },
          "metadata": {}
        },
        {
          "output_type": "display_data",
          "data": {
            "text/plain": [
              "BoundedIntText(value=512, description='Width', max=2000, min=1)"
            ],
            "application/vnd.jupyter.widget-view+json": {
              "version_major": 2,
              "version_minor": 0,
              "model_id": "0594f80048fe430991a15df8e71d82d0"
            }
          },
          "metadata": {}
        },
        {
          "output_type": "display_data",
          "data": {
            "text/plain": [
              "BoundedIntText(value=512, description='Height', max=2000, min=1)"
            ],
            "application/vnd.jupyter.widget-view+json": {
              "version_major": 2,
              "version_minor": 0,
              "model_id": "e189c065a0874c5fb03b3b5f54539a76"
            }
          },
          "metadata": {}
        },
        {
          "output_type": "display_data",
          "data": {
            "text/plain": [
              "BoundedIntText(value=1, description='Batch Size')"
            ],
            "application/vnd.jupyter.widget-view+json": {
              "version_major": 2,
              "version_minor": 0,
              "model_id": "33d68098d0f74fd2bb84e62a0ae0b302"
            }
          },
          "metadata": {}
        },
        {
          "output_type": "display_data",
          "data": {
            "text/plain": [
              "ToggleButton(value=True, description='GFPGAN Upscale', icon='check')"
            ],
            "application/vnd.jupyter.widget-view+json": {
              "version_major": 2,
              "version_minor": 0,
              "model_id": "5f27eefbe6744a0d804dd1a790ee940a"
            }
          },
          "metadata": {}
        }
      ],
      "source": [
        "display(widPrompt,widNegPrompt,widCFG,widSteps,widWidth,widHeight,widNoImages,widGFP) #Need to arrange properly"
      ]
    },
    {
      "cell_type": "code",
      "execution_count": 30,
      "metadata": {
        "colab": {
          "base_uri": "https://localhost:8080/",
          "height": 121,
          "referenced_widgets": [
            "e7ec55c5f084463a8fba1bd8c3294a11",
            "e853f69140a345349b39daed74491c89",
            "f23f369eb4a747deb86f11fa8bc8e217",
            "82e97260501e4735841d275d1cd6cca3",
            "d73b57232a9b468ab5f018da79195289",
            "ad18a3fa95534ed4a96f57a60ac64041",
            "40909c9224f4499585e94fc1ee256a03",
            "31223915ddc949cbbb428060bb627c3a",
            "d47272263d6b4cd1a2afd124277f9b77",
            "d33bc9f004f7493c9f73b296547e134f",
            "0c9b7d77ea944256826b730db53954ea"
          ]
        },
        "id": "kUERjVqpPsCb",
        "outputId": "ab2a0514-d7ba-4ae2-c0bf-7250eb4e1de0"
      },
      "outputs": [
        {
          "output_type": "stream",
          "name": "stdout",
          "text": [
            "1\n"
          ]
        },
        {
          "output_type": "stream",
          "name": "stderr",
          "text": [
            "<ipython-input-28-47401db239db>:30: FutureWarning: Accessing config attribute `in_channels` directly via 'UNet2DConditionModel' object attribute is deprecated. Please access 'in_channels' over 'UNet2DConditionModel's config object instead, e.g. 'unet.config.in_channels'.\n",
            "  latents = torch.randn((batch_size,unet.in_channels, imgHeight //8, imgWidth // 8),generator=generator,)\n"
          ]
        },
        {
          "output_type": "display_data",
          "data": {
            "text/plain": [
              "  0%|          | 0/30 [00:00<?, ?it/s]"
            ],
            "application/vnd.jupyter.widget-view+json": {
              "version_major": 2,
              "version_minor": 0,
              "model_id": "e7ec55c5f084463a8fba1bd8c3294a11"
            }
          },
          "metadata": {}
        }
      ],
      "source": [
        "generator = torch.Generator(device=torch_device)\n",
        "\n",
        "# Make output folder\n",
        "now = datetime.datetime.now().timetuple()[0:5]\n",
        "pngPath = \"/content/gdrive/MyDrive/SD_test/outputs/\" + \"-\".join(str(x) for x in now) + \"/\"\n",
        "try:\n",
        "  os.mkdir(pngPath)\n",
        "except:\n",
        "  pass\n",
        "\n",
        "prompt = widPrompt.value.split(\",\")\n",
        "if \",\" in widNegPrompt.value:\n",
        "  negPrompt = widNegPrompt.value.spilt(\",\")\n",
        "else:\n",
        "  negPrompt = [widNegPrompt.value]\n",
        "negPrompt += [\"\"] * (len(prompt)-len(negPrompt)) #Pad negative prompt to same length as prompt\n",
        "\n",
        "for i in range(1, widNoImages.value+1):\n",
        "  print(i)\n",
        "  seed = generator.seed() #create random seed\n",
        "  genimage = txt2img(prompt=prompt, negPrompt=negPrompt, imgWidth=widWidth.value,\n",
        "                  imgHeight=widHeight.value, guidance_scale=widCFG.value, num_inference_steps=widSteps.value, seed=seed)\n",
        "  savePath = pngPath + str(seed) + \".png\"\n",
        "  genimage[0].save(savePath,\"PNG\")\n",
        "\n",
        "if widGFP:\n",
        "  os.system(\"python \" + gfPath + \" -i \" + pngPath + \" -o \" + pngPath)"
      ]
    }
  ],
  "metadata": {
    "accelerator": "GPU",
    "colab": {
      "provenance": [],
      "authorship_tag": "ABX9TyPq7wMLs2dC3KsC+zP0Wp3s",
      "include_colab_link": true
    },
    "gpuClass": "standard",
    "kernelspec": {
      "display_name": "Python 3",
      "name": "python3"
    },
    "language_info": {
      "name": "python"
    },
    "widgets": {
      "application/vnd.jupyter.widget-state+json": {
        "dd3606b3a2b144059cc93002f44c26f3": {
          "model_module": "@jupyter-widgets/controls",
          "model_name": "DropdownModel",
          "model_module_version": "1.5.0",
          "state": {
            "_dom_classes": [],
            "_model_module": "@jupyter-widgets/controls",
            "_model_module_version": "1.5.0",
            "_model_name": "DropdownModel",
            "_options_labels": [
              "Deliberate-v3",
              "Reliberate"
            ],
            "_view_count": null,
            "_view_module": "@jupyter-widgets/controls",
            "_view_module_version": "1.5.0",
            "_view_name": "DropdownView",
            "description": "Model",
            "description_tooltip": null,
            "disabled": false,
            "index": 0,
            "layout": "IPY_MODEL_496d7d71a20443af9e757edc2531f0b5",
            "style": "IPY_MODEL_97cf5225bbe24f0f82453e1f97b32a8f"
          }
        },
        "496d7d71a20443af9e757edc2531f0b5": {
          "model_module": "@jupyter-widgets/base",
          "model_name": "LayoutModel",
          "model_module_version": "1.2.0",
          "state": {
            "_model_module": "@jupyter-widgets/base",
            "_model_module_version": "1.2.0",
            "_model_name": "LayoutModel",
            "_view_count": null,
            "_view_module": "@jupyter-widgets/base",
            "_view_module_version": "1.2.0",
            "_view_name": "LayoutView",
            "align_content": null,
            "align_items": null,
            "align_self": null,
            "border": null,
            "bottom": null,
            "display": null,
            "flex": null,
            "flex_flow": null,
            "grid_area": null,
            "grid_auto_columns": null,
            "grid_auto_flow": null,
            "grid_auto_rows": null,
            "grid_column": null,
            "grid_gap": null,
            "grid_row": null,
            "grid_template_areas": null,
            "grid_template_columns": null,
            "grid_template_rows": null,
            "height": null,
            "justify_content": null,
            "justify_items": null,
            "left": null,
            "margin": null,
            "max_height": null,
            "max_width": null,
            "min_height": null,
            "min_width": null,
            "object_fit": null,
            "object_position": null,
            "order": null,
            "overflow": null,
            "overflow_x": null,
            "overflow_y": null,
            "padding": null,
            "right": null,
            "top": null,
            "visibility": null,
            "width": null
          }
        },
        "97cf5225bbe24f0f82453e1f97b32a8f": {
          "model_module": "@jupyter-widgets/controls",
          "model_name": "DescriptionStyleModel",
          "model_module_version": "1.5.0",
          "state": {
            "_model_module": "@jupyter-widgets/controls",
            "_model_module_version": "1.5.0",
            "_model_name": "DescriptionStyleModel",
            "_view_count": null,
            "_view_module": "@jupyter-widgets/base",
            "_view_module_version": "1.2.0",
            "_view_name": "StyleView",
            "description_width": ""
          }
        },
        "d06f77cda6f94dbe950b3bdd7c23f815": {
          "model_module": "@jupyter-widgets/controls",
          "model_name": "TextModel",
          "model_module_version": "1.5.0",
          "state": {
            "_dom_classes": [],
            "_model_module": "@jupyter-widgets/controls",
            "_model_module_version": "1.5.0",
            "_model_name": "TextModel",
            "_view_count": null,
            "_view_module": "@jupyter-widgets/controls",
            "_view_module_version": "1.5.0",
            "_view_name": "TextView",
            "continuous_update": true,
            "description": "Prompt",
            "description_tooltip": null,
            "disabled": false,
            "layout": "IPY_MODEL_32499ddaae9a497a82ea9c8ee70bcef5",
            "placeholder": "​",
            "style": "IPY_MODEL_510d58f04ddc47afbeea3f2a82cf67b8",
            "value": "cat,tabby"
          }
        },
        "32499ddaae9a497a82ea9c8ee70bcef5": {
          "model_module": "@jupyter-widgets/base",
          "model_name": "LayoutModel",
          "model_module_version": "1.2.0",
          "state": {
            "_model_module": "@jupyter-widgets/base",
            "_model_module_version": "1.2.0",
            "_model_name": "LayoutModel",
            "_view_count": null,
            "_view_module": "@jupyter-widgets/base",
            "_view_module_version": "1.2.0",
            "_view_name": "LayoutView",
            "align_content": null,
            "align_items": null,
            "align_self": null,
            "border": null,
            "bottom": null,
            "display": null,
            "flex": null,
            "flex_flow": null,
            "grid_area": null,
            "grid_auto_columns": null,
            "grid_auto_flow": null,
            "grid_auto_rows": null,
            "grid_column": null,
            "grid_gap": null,
            "grid_row": null,
            "grid_template_areas": null,
            "grid_template_columns": null,
            "grid_template_rows": null,
            "height": null,
            "justify_content": null,
            "justify_items": null,
            "left": null,
            "margin": null,
            "max_height": null,
            "max_width": null,
            "min_height": null,
            "min_width": null,
            "object_fit": null,
            "object_position": null,
            "order": null,
            "overflow": null,
            "overflow_x": null,
            "overflow_y": null,
            "padding": null,
            "right": null,
            "top": null,
            "visibility": null,
            "width": "90%"
          }
        },
        "510d58f04ddc47afbeea3f2a82cf67b8": {
          "model_module": "@jupyter-widgets/controls",
          "model_name": "DescriptionStyleModel",
          "model_module_version": "1.5.0",
          "state": {
            "_model_module": "@jupyter-widgets/controls",
            "_model_module_version": "1.5.0",
            "_model_name": "DescriptionStyleModel",
            "_view_count": null,
            "_view_module": "@jupyter-widgets/base",
            "_view_module_version": "1.2.0",
            "_view_name": "StyleView",
            "description_width": ""
          }
        },
        "78c25b01b4cb434a9ba7926ebbdf7eb1": {
          "model_module": "@jupyter-widgets/controls",
          "model_name": "TextModel",
          "model_module_version": "1.5.0",
          "state": {
            "_dom_classes": [],
            "_model_module": "@jupyter-widgets/controls",
            "_model_module_version": "1.5.0",
            "_model_name": "TextModel",
            "_view_count": null,
            "_view_module": "@jupyter-widgets/controls",
            "_view_module_version": "1.5.0",
            "_view_name": "TextView",
            "continuous_update": true,
            "description": "Negative Prompt",
            "description_tooltip": null,
            "disabled": false,
            "layout": "IPY_MODEL_bdf650db23fb47eab399c584c51cc175",
            "placeholder": "​",
            "style": "IPY_MODEL_06dd81b677e849c0bd3ef31f9fbe19ef",
            "value": "fat"
          }
        },
        "bdf650db23fb47eab399c584c51cc175": {
          "model_module": "@jupyter-widgets/base",
          "model_name": "LayoutModel",
          "model_module_version": "1.2.0",
          "state": {
            "_model_module": "@jupyter-widgets/base",
            "_model_module_version": "1.2.0",
            "_model_name": "LayoutModel",
            "_view_count": null,
            "_view_module": "@jupyter-widgets/base",
            "_view_module_version": "1.2.0",
            "_view_name": "LayoutView",
            "align_content": null,
            "align_items": null,
            "align_self": null,
            "border": null,
            "bottom": null,
            "display": null,
            "flex": null,
            "flex_flow": null,
            "grid_area": null,
            "grid_auto_columns": null,
            "grid_auto_flow": null,
            "grid_auto_rows": null,
            "grid_column": null,
            "grid_gap": null,
            "grid_row": null,
            "grid_template_areas": null,
            "grid_template_columns": null,
            "grid_template_rows": null,
            "height": null,
            "justify_content": null,
            "justify_items": null,
            "left": null,
            "margin": null,
            "max_height": null,
            "max_width": null,
            "min_height": null,
            "min_width": null,
            "object_fit": null,
            "object_position": null,
            "order": null,
            "overflow": null,
            "overflow_x": null,
            "overflow_y": null,
            "padding": null,
            "right": null,
            "top": null,
            "visibility": null,
            "width": "90%"
          }
        },
        "06dd81b677e849c0bd3ef31f9fbe19ef": {
          "model_module": "@jupyter-widgets/controls",
          "model_name": "DescriptionStyleModel",
          "model_module_version": "1.5.0",
          "state": {
            "_model_module": "@jupyter-widgets/controls",
            "_model_module_version": "1.5.0",
            "_model_name": "DescriptionStyleModel",
            "_view_count": null,
            "_view_module": "@jupyter-widgets/base",
            "_view_module_version": "1.2.0",
            "_view_name": "StyleView",
            "description_width": ""
          }
        },
        "bc9082c811ee474e86b44580ff3f40b6": {
          "model_module": "@jupyter-widgets/controls",
          "model_name": "BoundedIntTextModel",
          "model_module_version": "1.5.0",
          "state": {
            "_dom_classes": [],
            "_model_module": "@jupyter-widgets/controls",
            "_model_module_version": "1.5.0",
            "_model_name": "BoundedIntTextModel",
            "_view_count": null,
            "_view_module": "@jupyter-widgets/controls",
            "_view_module_version": "1.5.0",
            "_view_name": "IntTextView",
            "continuous_update": false,
            "description": "CFG",
            "description_tooltip": null,
            "disabled": false,
            "layout": "IPY_MODEL_d3946190e1474134a00299a5e70d8c90",
            "max": 100,
            "min": 0,
            "step": 0,
            "style": "IPY_MODEL_6a00b286d5a24ed8b9b01be3b146657c",
            "value": 7
          }
        },
        "d3946190e1474134a00299a5e70d8c90": {
          "model_module": "@jupyter-widgets/base",
          "model_name": "LayoutModel",
          "model_module_version": "1.2.0",
          "state": {
            "_model_module": "@jupyter-widgets/base",
            "_model_module_version": "1.2.0",
            "_model_name": "LayoutModel",
            "_view_count": null,
            "_view_module": "@jupyter-widgets/base",
            "_view_module_version": "1.2.0",
            "_view_name": "LayoutView",
            "align_content": null,
            "align_items": null,
            "align_self": null,
            "border": null,
            "bottom": null,
            "display": null,
            "flex": null,
            "flex_flow": null,
            "grid_area": null,
            "grid_auto_columns": null,
            "grid_auto_flow": null,
            "grid_auto_rows": null,
            "grid_column": null,
            "grid_gap": null,
            "grid_row": null,
            "grid_template_areas": null,
            "grid_template_columns": null,
            "grid_template_rows": null,
            "height": null,
            "justify_content": null,
            "justify_items": null,
            "left": null,
            "margin": null,
            "max_height": null,
            "max_width": null,
            "min_height": null,
            "min_width": null,
            "object_fit": null,
            "object_position": null,
            "order": null,
            "overflow": null,
            "overflow_x": null,
            "overflow_y": null,
            "padding": null,
            "right": null,
            "top": null,
            "visibility": null,
            "width": null
          }
        },
        "6a00b286d5a24ed8b9b01be3b146657c": {
          "model_module": "@jupyter-widgets/controls",
          "model_name": "DescriptionStyleModel",
          "model_module_version": "1.5.0",
          "state": {
            "_model_module": "@jupyter-widgets/controls",
            "_model_module_version": "1.5.0",
            "_model_name": "DescriptionStyleModel",
            "_view_count": null,
            "_view_module": "@jupyter-widgets/base",
            "_view_module_version": "1.2.0",
            "_view_name": "StyleView",
            "description_width": ""
          }
        },
        "5302d42b62134b17a5745d9b288dcb0f": {
          "model_module": "@jupyter-widgets/controls",
          "model_name": "BoundedIntTextModel",
          "model_module_version": "1.5.0",
          "state": {
            "_dom_classes": [],
            "_model_module": "@jupyter-widgets/controls",
            "_model_module_version": "1.5.0",
            "_model_name": "BoundedIntTextModel",
            "_view_count": null,
            "_view_module": "@jupyter-widgets/controls",
            "_view_module_version": "1.5.0",
            "_view_name": "IntTextView",
            "continuous_update": false,
            "description": "Steps",
            "description_tooltip": null,
            "disabled": false,
            "layout": "IPY_MODEL_128e25011b8a44c7a57fa755ffb4bdef",
            "max": 200,
            "min": 1,
            "step": 1,
            "style": "IPY_MODEL_05cce44782c843729286cee9960b5083",
            "value": 30
          }
        },
        "128e25011b8a44c7a57fa755ffb4bdef": {
          "model_module": "@jupyter-widgets/base",
          "model_name": "LayoutModel",
          "model_module_version": "1.2.0",
          "state": {
            "_model_module": "@jupyter-widgets/base",
            "_model_module_version": "1.2.0",
            "_model_name": "LayoutModel",
            "_view_count": null,
            "_view_module": "@jupyter-widgets/base",
            "_view_module_version": "1.2.0",
            "_view_name": "LayoutView",
            "align_content": null,
            "align_items": null,
            "align_self": null,
            "border": null,
            "bottom": null,
            "display": null,
            "flex": null,
            "flex_flow": null,
            "grid_area": null,
            "grid_auto_columns": null,
            "grid_auto_flow": null,
            "grid_auto_rows": null,
            "grid_column": null,
            "grid_gap": null,
            "grid_row": null,
            "grid_template_areas": null,
            "grid_template_columns": null,
            "grid_template_rows": null,
            "height": null,
            "justify_content": null,
            "justify_items": null,
            "left": null,
            "margin": null,
            "max_height": null,
            "max_width": null,
            "min_height": null,
            "min_width": null,
            "object_fit": null,
            "object_position": null,
            "order": null,
            "overflow": null,
            "overflow_x": null,
            "overflow_y": null,
            "padding": null,
            "right": null,
            "top": null,
            "visibility": null,
            "width": null
          }
        },
        "05cce44782c843729286cee9960b5083": {
          "model_module": "@jupyter-widgets/controls",
          "model_name": "DescriptionStyleModel",
          "model_module_version": "1.5.0",
          "state": {
            "_model_module": "@jupyter-widgets/controls",
            "_model_module_version": "1.5.0",
            "_model_name": "DescriptionStyleModel",
            "_view_count": null,
            "_view_module": "@jupyter-widgets/base",
            "_view_module_version": "1.2.0",
            "_view_name": "StyleView",
            "description_width": ""
          }
        },
        "0594f80048fe430991a15df8e71d82d0": {
          "model_module": "@jupyter-widgets/controls",
          "model_name": "BoundedIntTextModel",
          "model_module_version": "1.5.0",
          "state": {
            "_dom_classes": [],
            "_model_module": "@jupyter-widgets/controls",
            "_model_module_version": "1.5.0",
            "_model_name": "BoundedIntTextModel",
            "_view_count": null,
            "_view_module": "@jupyter-widgets/controls",
            "_view_module_version": "1.5.0",
            "_view_name": "IntTextView",
            "continuous_update": false,
            "description": "Width",
            "description_tooltip": null,
            "disabled": false,
            "layout": "IPY_MODEL_947f353cb4fc41e7a52bb43566d2b59e",
            "max": 2000,
            "min": 1,
            "step": 1,
            "style": "IPY_MODEL_b47cead5b6eb49f5a36422dc9369eeb2",
            "value": 512
          }
        },
        "947f353cb4fc41e7a52bb43566d2b59e": {
          "model_module": "@jupyter-widgets/base",
          "model_name": "LayoutModel",
          "model_module_version": "1.2.0",
          "state": {
            "_model_module": "@jupyter-widgets/base",
            "_model_module_version": "1.2.0",
            "_model_name": "LayoutModel",
            "_view_count": null,
            "_view_module": "@jupyter-widgets/base",
            "_view_module_version": "1.2.0",
            "_view_name": "LayoutView",
            "align_content": null,
            "align_items": null,
            "align_self": null,
            "border": null,
            "bottom": null,
            "display": null,
            "flex": null,
            "flex_flow": null,
            "grid_area": null,
            "grid_auto_columns": null,
            "grid_auto_flow": null,
            "grid_auto_rows": null,
            "grid_column": null,
            "grid_gap": null,
            "grid_row": null,
            "grid_template_areas": null,
            "grid_template_columns": null,
            "grid_template_rows": null,
            "height": null,
            "justify_content": null,
            "justify_items": null,
            "left": null,
            "margin": null,
            "max_height": null,
            "max_width": null,
            "min_height": null,
            "min_width": null,
            "object_fit": null,
            "object_position": null,
            "order": null,
            "overflow": null,
            "overflow_x": null,
            "overflow_y": null,
            "padding": null,
            "right": null,
            "top": null,
            "visibility": null,
            "width": null
          }
        },
        "b47cead5b6eb49f5a36422dc9369eeb2": {
          "model_module": "@jupyter-widgets/controls",
          "model_name": "DescriptionStyleModel",
          "model_module_version": "1.5.0",
          "state": {
            "_model_module": "@jupyter-widgets/controls",
            "_model_module_version": "1.5.0",
            "_model_name": "DescriptionStyleModel",
            "_view_count": null,
            "_view_module": "@jupyter-widgets/base",
            "_view_module_version": "1.2.0",
            "_view_name": "StyleView",
            "description_width": ""
          }
        },
        "e189c065a0874c5fb03b3b5f54539a76": {
          "model_module": "@jupyter-widgets/controls",
          "model_name": "BoundedIntTextModel",
          "model_module_version": "1.5.0",
          "state": {
            "_dom_classes": [],
            "_model_module": "@jupyter-widgets/controls",
            "_model_module_version": "1.5.0",
            "_model_name": "BoundedIntTextModel",
            "_view_count": null,
            "_view_module": "@jupyter-widgets/controls",
            "_view_module_version": "1.5.0",
            "_view_name": "IntTextView",
            "continuous_update": false,
            "description": "Height",
            "description_tooltip": null,
            "disabled": false,
            "layout": "IPY_MODEL_838beed9328b44ff8526cdc99ed4ed8e",
            "max": 2000,
            "min": 1,
            "step": 1,
            "style": "IPY_MODEL_b68ed73c16b247f0b0153cf7a6a7991d",
            "value": 512
          }
        },
        "838beed9328b44ff8526cdc99ed4ed8e": {
          "model_module": "@jupyter-widgets/base",
          "model_name": "LayoutModel",
          "model_module_version": "1.2.0",
          "state": {
            "_model_module": "@jupyter-widgets/base",
            "_model_module_version": "1.2.0",
            "_model_name": "LayoutModel",
            "_view_count": null,
            "_view_module": "@jupyter-widgets/base",
            "_view_module_version": "1.2.0",
            "_view_name": "LayoutView",
            "align_content": null,
            "align_items": null,
            "align_self": null,
            "border": null,
            "bottom": null,
            "display": null,
            "flex": null,
            "flex_flow": null,
            "grid_area": null,
            "grid_auto_columns": null,
            "grid_auto_flow": null,
            "grid_auto_rows": null,
            "grid_column": null,
            "grid_gap": null,
            "grid_row": null,
            "grid_template_areas": null,
            "grid_template_columns": null,
            "grid_template_rows": null,
            "height": null,
            "justify_content": null,
            "justify_items": null,
            "left": null,
            "margin": null,
            "max_height": null,
            "max_width": null,
            "min_height": null,
            "min_width": null,
            "object_fit": null,
            "object_position": null,
            "order": null,
            "overflow": null,
            "overflow_x": null,
            "overflow_y": null,
            "padding": null,
            "right": null,
            "top": null,
            "visibility": null,
            "width": null
          }
        },
        "b68ed73c16b247f0b0153cf7a6a7991d": {
          "model_module": "@jupyter-widgets/controls",
          "model_name": "DescriptionStyleModel",
          "model_module_version": "1.5.0",
          "state": {
            "_model_module": "@jupyter-widgets/controls",
            "_model_module_version": "1.5.0",
            "_model_name": "DescriptionStyleModel",
            "_view_count": null,
            "_view_module": "@jupyter-widgets/base",
            "_view_module_version": "1.2.0",
            "_view_name": "StyleView",
            "description_width": ""
          }
        },
        "33d68098d0f74fd2bb84e62a0ae0b302": {
          "model_module": "@jupyter-widgets/controls",
          "model_name": "BoundedIntTextModel",
          "model_module_version": "1.5.0",
          "state": {
            "_dom_classes": [],
            "_model_module": "@jupyter-widgets/controls",
            "_model_module_version": "1.5.0",
            "_model_name": "BoundedIntTextModel",
            "_view_count": null,
            "_view_module": "@jupyter-widgets/controls",
            "_view_module_version": "1.5.0",
            "_view_name": "IntTextView",
            "continuous_update": false,
            "description": "Batch Size",
            "description_tooltip": null,
            "disabled": false,
            "layout": "IPY_MODEL_043ef8ac6cd44547931d6b5ba9b4dc32",
            "max": 100,
            "min": 0,
            "step": 1,
            "style": "IPY_MODEL_e2a0751d94d24431a31b0fab047c0661",
            "value": 1
          }
        },
        "043ef8ac6cd44547931d6b5ba9b4dc32": {
          "model_module": "@jupyter-widgets/base",
          "model_name": "LayoutModel",
          "model_module_version": "1.2.0",
          "state": {
            "_model_module": "@jupyter-widgets/base",
            "_model_module_version": "1.2.0",
            "_model_name": "LayoutModel",
            "_view_count": null,
            "_view_module": "@jupyter-widgets/base",
            "_view_module_version": "1.2.0",
            "_view_name": "LayoutView",
            "align_content": null,
            "align_items": null,
            "align_self": null,
            "border": null,
            "bottom": null,
            "display": null,
            "flex": null,
            "flex_flow": null,
            "grid_area": null,
            "grid_auto_columns": null,
            "grid_auto_flow": null,
            "grid_auto_rows": null,
            "grid_column": null,
            "grid_gap": null,
            "grid_row": null,
            "grid_template_areas": null,
            "grid_template_columns": null,
            "grid_template_rows": null,
            "height": null,
            "justify_content": null,
            "justify_items": null,
            "left": null,
            "margin": null,
            "max_height": null,
            "max_width": null,
            "min_height": null,
            "min_width": null,
            "object_fit": null,
            "object_position": null,
            "order": null,
            "overflow": null,
            "overflow_x": null,
            "overflow_y": null,
            "padding": null,
            "right": null,
            "top": null,
            "visibility": null,
            "width": null
          }
        },
        "e2a0751d94d24431a31b0fab047c0661": {
          "model_module": "@jupyter-widgets/controls",
          "model_name": "DescriptionStyleModel",
          "model_module_version": "1.5.0",
          "state": {
            "_model_module": "@jupyter-widgets/controls",
            "_model_module_version": "1.5.0",
            "_model_name": "DescriptionStyleModel",
            "_view_count": null,
            "_view_module": "@jupyter-widgets/base",
            "_view_module_version": "1.2.0",
            "_view_name": "StyleView",
            "description_width": ""
          }
        },
        "5f27eefbe6744a0d804dd1a790ee940a": {
          "model_module": "@jupyter-widgets/controls",
          "model_name": "ToggleButtonModel",
          "model_module_version": "1.5.0",
          "state": {
            "_dom_classes": [],
            "_model_module": "@jupyter-widgets/controls",
            "_model_module_version": "1.5.0",
            "_model_name": "ToggleButtonModel",
            "_view_count": null,
            "_view_module": "@jupyter-widgets/controls",
            "_view_module_version": "1.5.0",
            "_view_name": "ToggleButtonView",
            "button_style": "",
            "description": "GFPGAN Upscale",
            "description_tooltip": null,
            "disabled": false,
            "icon": "check",
            "layout": "IPY_MODEL_6c51e491d3104876a124b42977c1d407",
            "style": "IPY_MODEL_76b2c519892c4009a62db9be646bd298",
            "tooltip": "",
            "value": true
          }
        },
        "6c51e491d3104876a124b42977c1d407": {
          "model_module": "@jupyter-widgets/base",
          "model_name": "LayoutModel",
          "model_module_version": "1.2.0",
          "state": {
            "_model_module": "@jupyter-widgets/base",
            "_model_module_version": "1.2.0",
            "_model_name": "LayoutModel",
            "_view_count": null,
            "_view_module": "@jupyter-widgets/base",
            "_view_module_version": "1.2.0",
            "_view_name": "LayoutView",
            "align_content": null,
            "align_items": null,
            "align_self": null,
            "border": null,
            "bottom": null,
            "display": null,
            "flex": null,
            "flex_flow": null,
            "grid_area": null,
            "grid_auto_columns": null,
            "grid_auto_flow": null,
            "grid_auto_rows": null,
            "grid_column": null,
            "grid_gap": null,
            "grid_row": null,
            "grid_template_areas": null,
            "grid_template_columns": null,
            "grid_template_rows": null,
            "height": null,
            "justify_content": null,
            "justify_items": null,
            "left": null,
            "margin": null,
            "max_height": null,
            "max_width": null,
            "min_height": null,
            "min_width": null,
            "object_fit": null,
            "object_position": null,
            "order": null,
            "overflow": null,
            "overflow_x": null,
            "overflow_y": null,
            "padding": null,
            "right": null,
            "top": null,
            "visibility": null,
            "width": null
          }
        },
        "76b2c519892c4009a62db9be646bd298": {
          "model_module": "@jupyter-widgets/controls",
          "model_name": "DescriptionStyleModel",
          "model_module_version": "1.5.0",
          "state": {
            "_model_module": "@jupyter-widgets/controls",
            "_model_module_version": "1.5.0",
            "_model_name": "DescriptionStyleModel",
            "_view_count": null,
            "_view_module": "@jupyter-widgets/base",
            "_view_module_version": "1.2.0",
            "_view_name": "StyleView",
            "description_width": ""
          }
        },
        "e7ec55c5f084463a8fba1bd8c3294a11": {
          "model_module": "@jupyter-widgets/controls",
          "model_name": "HBoxModel",
          "model_module_version": "1.5.0",
          "state": {
            "_dom_classes": [],
            "_model_module": "@jupyter-widgets/controls",
            "_model_module_version": "1.5.0",
            "_model_name": "HBoxModel",
            "_view_count": null,
            "_view_module": "@jupyter-widgets/controls",
            "_view_module_version": "1.5.0",
            "_view_name": "HBoxView",
            "box_style": "",
            "children": [
              "IPY_MODEL_e853f69140a345349b39daed74491c89",
              "IPY_MODEL_f23f369eb4a747deb86f11fa8bc8e217",
              "IPY_MODEL_82e97260501e4735841d275d1cd6cca3"
            ],
            "layout": "IPY_MODEL_d73b57232a9b468ab5f018da79195289"
          }
        },
        "e853f69140a345349b39daed74491c89": {
          "model_module": "@jupyter-widgets/controls",
          "model_name": "HTMLModel",
          "model_module_version": "1.5.0",
          "state": {
            "_dom_classes": [],
            "_model_module": "@jupyter-widgets/controls",
            "_model_module_version": "1.5.0",
            "_model_name": "HTMLModel",
            "_view_count": null,
            "_view_module": "@jupyter-widgets/controls",
            "_view_module_version": "1.5.0",
            "_view_name": "HTMLView",
            "description": "",
            "description_tooltip": null,
            "layout": "IPY_MODEL_ad18a3fa95534ed4a96f57a60ac64041",
            "placeholder": "​",
            "style": "IPY_MODEL_40909c9224f4499585e94fc1ee256a03",
            "value": "100%"
          }
        },
        "f23f369eb4a747deb86f11fa8bc8e217": {
          "model_module": "@jupyter-widgets/controls",
          "model_name": "FloatProgressModel",
          "model_module_version": "1.5.0",
          "state": {
            "_dom_classes": [],
            "_model_module": "@jupyter-widgets/controls",
            "_model_module_version": "1.5.0",
            "_model_name": "FloatProgressModel",
            "_view_count": null,
            "_view_module": "@jupyter-widgets/controls",
            "_view_module_version": "1.5.0",
            "_view_name": "ProgressView",
            "bar_style": "success",
            "description": "",
            "description_tooltip": null,
            "layout": "IPY_MODEL_31223915ddc949cbbb428060bb627c3a",
            "max": 30,
            "min": 0,
            "orientation": "horizontal",
            "style": "IPY_MODEL_d47272263d6b4cd1a2afd124277f9b77",
            "value": 30
          }
        },
        "82e97260501e4735841d275d1cd6cca3": {
          "model_module": "@jupyter-widgets/controls",
          "model_name": "HTMLModel",
          "model_module_version": "1.5.0",
          "state": {
            "_dom_classes": [],
            "_model_module": "@jupyter-widgets/controls",
            "_model_module_version": "1.5.0",
            "_model_name": "HTMLModel",
            "_view_count": null,
            "_view_module": "@jupyter-widgets/controls",
            "_view_module_version": "1.5.0",
            "_view_name": "HTMLView",
            "description": "",
            "description_tooltip": null,
            "layout": "IPY_MODEL_d33bc9f004f7493c9f73b296547e134f",
            "placeholder": "​",
            "style": "IPY_MODEL_0c9b7d77ea944256826b730db53954ea",
            "value": " 30/30 [00:26&lt;00:00,  1.19it/s]"
          }
        },
        "d73b57232a9b468ab5f018da79195289": {
          "model_module": "@jupyter-widgets/base",
          "model_name": "LayoutModel",
          "model_module_version": "1.2.0",
          "state": {
            "_model_module": "@jupyter-widgets/base",
            "_model_module_version": "1.2.0",
            "_model_name": "LayoutModel",
            "_view_count": null,
            "_view_module": "@jupyter-widgets/base",
            "_view_module_version": "1.2.0",
            "_view_name": "LayoutView",
            "align_content": null,
            "align_items": null,
            "align_self": null,
            "border": null,
            "bottom": null,
            "display": null,
            "flex": null,
            "flex_flow": null,
            "grid_area": null,
            "grid_auto_columns": null,
            "grid_auto_flow": null,
            "grid_auto_rows": null,
            "grid_column": null,
            "grid_gap": null,
            "grid_row": null,
            "grid_template_areas": null,
            "grid_template_columns": null,
            "grid_template_rows": null,
            "height": null,
            "justify_content": null,
            "justify_items": null,
            "left": null,
            "margin": null,
            "max_height": null,
            "max_width": null,
            "min_height": null,
            "min_width": null,
            "object_fit": null,
            "object_position": null,
            "order": null,
            "overflow": null,
            "overflow_x": null,
            "overflow_y": null,
            "padding": null,
            "right": null,
            "top": null,
            "visibility": null,
            "width": null
          }
        },
        "ad18a3fa95534ed4a96f57a60ac64041": {
          "model_module": "@jupyter-widgets/base",
          "model_name": "LayoutModel",
          "model_module_version": "1.2.0",
          "state": {
            "_model_module": "@jupyter-widgets/base",
            "_model_module_version": "1.2.0",
            "_model_name": "LayoutModel",
            "_view_count": null,
            "_view_module": "@jupyter-widgets/base",
            "_view_module_version": "1.2.0",
            "_view_name": "LayoutView",
            "align_content": null,
            "align_items": null,
            "align_self": null,
            "border": null,
            "bottom": null,
            "display": null,
            "flex": null,
            "flex_flow": null,
            "grid_area": null,
            "grid_auto_columns": null,
            "grid_auto_flow": null,
            "grid_auto_rows": null,
            "grid_column": null,
            "grid_gap": null,
            "grid_row": null,
            "grid_template_areas": null,
            "grid_template_columns": null,
            "grid_template_rows": null,
            "height": null,
            "justify_content": null,
            "justify_items": null,
            "left": null,
            "margin": null,
            "max_height": null,
            "max_width": null,
            "min_height": null,
            "min_width": null,
            "object_fit": null,
            "object_position": null,
            "order": null,
            "overflow": null,
            "overflow_x": null,
            "overflow_y": null,
            "padding": null,
            "right": null,
            "top": null,
            "visibility": null,
            "width": null
          }
        },
        "40909c9224f4499585e94fc1ee256a03": {
          "model_module": "@jupyter-widgets/controls",
          "model_name": "DescriptionStyleModel",
          "model_module_version": "1.5.0",
          "state": {
            "_model_module": "@jupyter-widgets/controls",
            "_model_module_version": "1.5.0",
            "_model_name": "DescriptionStyleModel",
            "_view_count": null,
            "_view_module": "@jupyter-widgets/base",
            "_view_module_version": "1.2.0",
            "_view_name": "StyleView",
            "description_width": ""
          }
        },
        "31223915ddc949cbbb428060bb627c3a": {
          "model_module": "@jupyter-widgets/base",
          "model_name": "LayoutModel",
          "model_module_version": "1.2.0",
          "state": {
            "_model_module": "@jupyter-widgets/base",
            "_model_module_version": "1.2.0",
            "_model_name": "LayoutModel",
            "_view_count": null,
            "_view_module": "@jupyter-widgets/base",
            "_view_module_version": "1.2.0",
            "_view_name": "LayoutView",
            "align_content": null,
            "align_items": null,
            "align_self": null,
            "border": null,
            "bottom": null,
            "display": null,
            "flex": null,
            "flex_flow": null,
            "grid_area": null,
            "grid_auto_columns": null,
            "grid_auto_flow": null,
            "grid_auto_rows": null,
            "grid_column": null,
            "grid_gap": null,
            "grid_row": null,
            "grid_template_areas": null,
            "grid_template_columns": null,
            "grid_template_rows": null,
            "height": null,
            "justify_content": null,
            "justify_items": null,
            "left": null,
            "margin": null,
            "max_height": null,
            "max_width": null,
            "min_height": null,
            "min_width": null,
            "object_fit": null,
            "object_position": null,
            "order": null,
            "overflow": null,
            "overflow_x": null,
            "overflow_y": null,
            "padding": null,
            "right": null,
            "top": null,
            "visibility": null,
            "width": null
          }
        },
        "d47272263d6b4cd1a2afd124277f9b77": {
          "model_module": "@jupyter-widgets/controls",
          "model_name": "ProgressStyleModel",
          "model_module_version": "1.5.0",
          "state": {
            "_model_module": "@jupyter-widgets/controls",
            "_model_module_version": "1.5.0",
            "_model_name": "ProgressStyleModel",
            "_view_count": null,
            "_view_module": "@jupyter-widgets/base",
            "_view_module_version": "1.2.0",
            "_view_name": "StyleView",
            "bar_color": null,
            "description_width": ""
          }
        },
        "d33bc9f004f7493c9f73b296547e134f": {
          "model_module": "@jupyter-widgets/base",
          "model_name": "LayoutModel",
          "model_module_version": "1.2.0",
          "state": {
            "_model_module": "@jupyter-widgets/base",
            "_model_module_version": "1.2.0",
            "_model_name": "LayoutModel",
            "_view_count": null,
            "_view_module": "@jupyter-widgets/base",
            "_view_module_version": "1.2.0",
            "_view_name": "LayoutView",
            "align_content": null,
            "align_items": null,
            "align_self": null,
            "border": null,
            "bottom": null,
            "display": null,
            "flex": null,
            "flex_flow": null,
            "grid_area": null,
            "grid_auto_columns": null,
            "grid_auto_flow": null,
            "grid_auto_rows": null,
            "grid_column": null,
            "grid_gap": null,
            "grid_row": null,
            "grid_template_areas": null,
            "grid_template_columns": null,
            "grid_template_rows": null,
            "height": null,
            "justify_content": null,
            "justify_items": null,
            "left": null,
            "margin": null,
            "max_height": null,
            "max_width": null,
            "min_height": null,
            "min_width": null,
            "object_fit": null,
            "object_position": null,
            "order": null,
            "overflow": null,
            "overflow_x": null,
            "overflow_y": null,
            "padding": null,
            "right": null,
            "top": null,
            "visibility": null,
            "width": null
          }
        },
        "0c9b7d77ea944256826b730db53954ea": {
          "model_module": "@jupyter-widgets/controls",
          "model_name": "DescriptionStyleModel",
          "model_module_version": "1.5.0",
          "state": {
            "_model_module": "@jupyter-widgets/controls",
            "_model_module_version": "1.5.0",
            "_model_name": "DescriptionStyleModel",
            "_view_count": null,
            "_view_module": "@jupyter-widgets/base",
            "_view_module_version": "1.2.0",
            "_view_name": "StyleView",
            "description_width": ""
          }
        }
      }
    }
  },
  "nbformat": 4,
  "nbformat_minor": 0
}